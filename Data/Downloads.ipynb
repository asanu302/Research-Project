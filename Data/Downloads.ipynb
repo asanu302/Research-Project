{
 "cells": [
  {
   "cell_type": "code",
   "execution_count": 2,
   "metadata": {},
   "outputs": [
    {
     "ename": "ModuleNotFoundError",
     "evalue": "No module named 'cluster_project'",
     "output_type": "error",
     "traceback": [
      "\u001b[1;31m---------------------------------------------------------------------------\u001b[0m",
      "\u001b[1;31mModuleNotFoundError\u001b[0m                       Traceback (most recent call last)",
      "\u001b[1;32m<ipython-input-2-26d03d408b7e>\u001b[0m in \u001b[0;36m<module>\u001b[1;34m\u001b[0m\n\u001b[0;32m      1\u001b[0m \u001b[1;32mimport\u001b[0m \u001b[0mpandas\u001b[0m \u001b[1;32mas\u001b[0m \u001b[0mpd\u001b[0m\u001b[1;33m\u001b[0m\u001b[1;33m\u001b[0m\u001b[0m\n\u001b[1;32m----> 2\u001b[1;33m \u001b[1;32mfrom\u001b[0m \u001b[0mcluster_project\u001b[0m\u001b[1;33m.\u001b[0m\u001b[0mdbscan_clustering\u001b[0m \u001b[1;32mimport\u001b[0m \u001b[0mgeo_clustering_dbscan\u001b[0m\u001b[1;33m\u001b[0m\u001b[1;33m\u001b[0m\u001b[0m\n\u001b[0m\u001b[0;32m      3\u001b[0m \u001b[1;32mfrom\u001b[0m \u001b[0mcluster_project\u001b[0m\u001b[1;33m.\u001b[0m\u001b[0madress_clustering\u001b[0m \u001b[1;32mimport\u001b[0m \u001b[0mprocess_adress\u001b[0m\u001b[1;33m,\u001b[0m \u001b[0mclustering_street_names\u001b[0m\u001b[1;33m,\u001b[0m \u001b[0mapply_clustering_to_stations\u001b[0m\u001b[1;33m\u001b[0m\u001b[1;33m\u001b[0m\u001b[0m\n",
      "\u001b[1;31mModuleNotFoundError\u001b[0m: No module named 'cluster_project'"
     ]
    }
   ],
   "source": [
    "import pandas as pd\n",
    "from cluster_project.dbscan_clustering import geo_clustering_dbscan\n",
    "from cluster_project.adress_clustering import process_adress, clustering_street_names, apply_clustering_to_stations"
   ]
  }
 ],
 "metadata": {
  "kernelspec": {
   "display_name": "Python 3",
   "language": "python",
   "name": "python3"
  },
  "language_info": {
   "codemirror_mode": {
    "name": "ipython",
    "version": 3
   },
   "file_extension": ".py",
   "mimetype": "text/x-python",
   "name": "python",
   "nbconvert_exporter": "python",
   "pygments_lexer": "ipython3",
   "version": "3.7.3"
  }
 },
 "nbformat": 4,
 "nbformat_minor": 2
}
